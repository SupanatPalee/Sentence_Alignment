{
 "cells": [
  {
   "cell_type": "code",
   "execution_count": 4,
   "id": "b70493ce",
   "metadata": {},
   "outputs": [
    {
     "name": "stdout",
     "output_type": "stream",
     "text": [
      "การรวมไฟล์ CSV เสร็จสมบูรณ์\n"
     ]
    }
   ],
   "source": [
    "# import os\n",
    "# import pandas as pd\n",
    "\n",
    "# # ระบุเส้นทางไปยังโฟลเดอร์ที่มีไฟล์ CSV\n",
    "# folder_path = r'C:\\Users\\supan\\webscrap_v2\\webscrap_v2\\cut sen th\\thai_sentences'\n",
    "\n",
    "# # สร้างลิสต์เพื่อเก็บ DataFrame ของแต่ละไฟล์\n",
    "# df_list = []\n",
    "\n",
    "# # วนลูปอ่านไฟล์ CSV ในโฟลเดอร์\n",
    "# for filename in os.listdir(folder_path):\n",
    "#     if filename.endswith('.csv'):\n",
    "#         file_path = os.path.join(folder_path, filename)\n",
    "#         df = pd.read_csv(file_path)\n",
    "#         df_list.append(df)\n",
    "\n",
    "# # รวม DataFrame ทั้งหมดในลิสต์เป็น DataFrame เดียว\n",
    "# # combined_df = pd.concat(df_list, ignore_index=True)\n",
    "\n",
    "# # เส้นทางสำหรับบันทึกไฟล์ผลลัพธ์\n",
    "# output_folder = r'C:\\Users\\supan\\webscrap_v2\\webscrap_v2\\cut sen th\\output cut sentence th'\n",
    "# output_path = os.path.join(output_folder, 'combined_file.csv')\n",
    "\n",
    "# # ตรวจสอบและสร้างโฟลเดอร์หากไม่มี\n",
    "# if not os.path.exists(output_folder):\n",
    "#     os.makedirs(output_folder)\n",
    "\n",
    "# # บันทึก DataFrame ที่รวมกันเป็นไฟล์ CSV เดียว\n",
    "# combined_df.to_csv(output_path, index=False)\n",
    "\n",
    "# print(\"การรวมไฟล์ CSV เสร็จสมบูรณ์\")\n"
   ]
  },
  {
   "cell_type": "code",
   "execution_count": 5,
   "id": "5b284992",
   "metadata": {},
   "outputs": [
    {
     "name": "stdout",
     "output_type": "stream",
     "text": [
      "การรวมไฟล์ CSV เสร็จสมบูรณ์\n"
     ]
    }
   ],
   "source": [
    "# import os\n",
    "# import pandas as pd\n",
    "\n",
    "# # ระบุเส้นทางไปยังโฟลเดอร์ที่มีไฟล์ CSV\n",
    "# folder_path = r'C:\\Users\\supan\\webscrap_v2\\webscrap_v2\\cut sen th\\thai_sentences'\n",
    "\n",
    "# # สร้างลิสต์เพื่อเก็บ DataFrame ของแต่ละไฟล์\n",
    "# df_list = []\n",
    "\n",
    "# # วนลูปอ่านไฟล์ CSV ในโฟลเดอร์และจัดเรียงลำดับไฟล์\n",
    "# for filename in sorted(os.listdir(folder_path)):\n",
    "#     if filename.endswith('.csv'):\n",
    "#         file_path = os.path.join(folder_path, filename)\n",
    "#         df = pd.read_csv(file_path)\n",
    "#         df_list.append(df)\n",
    "\n",
    "# # รวม DataFrame ทั้งหมดในลิสต์เป็น DataFrame เดียว\n",
    "# combined_df = pd.concat(df_list, ignore_index=True)\n",
    "\n",
    "# # เส้นทางสำหรับบันทึกไฟล์ผลลัพธ์\n",
    "# output_folder = r'C:\\Users\\supan\\webscrap_v2\\webscrap_v2\\cut sen th\\output cut sentence th'\n",
    "# output_path = os.path.join(output_folder, 'combined_file.csv')\n",
    "\n",
    "# # ตรวจสอบและสร้างโฟลเดอร์หากไม่มี\n",
    "# if not os.path.exists(output_folder):\n",
    "#     os.makedirs(output_folder)\n",
    "\n",
    "# # บันทึก DataFrame ที่รวมกันเป็นไฟล์ CSV เดียว\n",
    "# combined_df.to_csv(output_path, index=False)\n",
    "\n",
    "# print(\"การรวมไฟล์ CSV เสร็จสมบูรณ์\")\n"
   ]
  },
  {
   "cell_type": "code",
   "execution_count": 7,
   "id": "15d2cfb9",
   "metadata": {},
   "outputs": [
    {
     "name": "stdout",
     "output_type": "stream",
     "text": [
      "Files combined successfully!\n"
     ]
    }
   ],
   "source": [
    "# import pandas as pd\n",
    "# import os\n",
    "\n",
    "# # ระบุเส้นทางไปยังโฟลเดอร์ที่มีไฟล์ CSV\n",
    "# folder_path = r'C:\\Users\\supan\\webscrap_v2\\webscrap_v2\\cut sen th\\thai_sentences'  # เปลี่ยนเป็นเส้นทางของโฟลเดอร์ที่มีไฟล์ของคุณ\n",
    "\n",
    "# # สร้างรายการชื่อไฟล์ CSV ทั้งหมดในโฟลเดอร์\n",
    "# file_names = [f for f in os.listdir(folder_path) if f.startswith('thai_sentences_') and f.endswith('.csv')]\n",
    "\n",
    "# # อ่านและรวมไฟล์ CSV ทั้งหมดเข้าด้วยกัน\n",
    "# combined_csv = pd.concat([pd.read_csv(os.path.join(folder_path, file_name)) for file_name in sorted(file_names)])\n",
    "\n",
    "# # เส้นทางสำหรับบันทึกไฟล์ผลลัพธ์\n",
    "# output_folder = r'C:\\Users\\supan\\webscrap_v2\\webscrap_v2\\cut sen th\\output cut sentence th'\n",
    "\n",
    "# # ตรวจสอบและสร้างไดเรกทอรีหากไม่อยู่\n",
    "# if not os.path.exists(output_folder):\n",
    "#     os.makedirs(output_folder)\n",
    "\n",
    "# # เส้นทางไฟล์ผลลัพธ์\n",
    "# output_path = os.path.join(output_folder, 'combined_thai_sentences.csv')\n",
    "\n",
    "# # บันทึกไฟล์ที่รวมกันแล้วเป็น CSV ใหม่\n",
    "# combined_csv.to_csv(output_path, index=False)\n",
    "\n",
    "# print(\"Files combined successfully!\")\n"
   ]
  },
  {
   "cell_type": "code",
   "execution_count": 2,
   "id": "70dce76a",
   "metadata": {},
   "outputs": [
    {
     "ename": "FileNotFoundError",
     "evalue": "[Errno 2] No such file or directory: 'C:\\\\Users\\\\supan\\\\webscrap_v2\\\\webscrap_v2\\\\cut sen th\\\\thai_sentences_1427-1692\\\\thai_sentences_0.csv'",
     "output_type": "error",
     "traceback": [
      "\u001b[1;31m---------------------------------------------------------------------------\u001b[0m",
      "\u001b[1;31mFileNotFoundError\u001b[0m                         Traceback (most recent call last)",
      "Cell \u001b[1;32mIn[2], line 16\u001b[0m\n\u001b[0;32m     14\u001b[0m \u001b[38;5;28;01mfor\u001b[39;00m i \u001b[38;5;129;01min\u001b[39;00m \u001b[38;5;28mrange\u001b[39m(number_of_files):\n\u001b[0;32m     15\u001b[0m     file_path \u001b[38;5;241m=\u001b[39m file_template\u001b[38;5;241m.\u001b[39mformat(i)\n\u001b[1;32m---> 16\u001b[0m     df \u001b[38;5;241m=\u001b[39m pd\u001b[38;5;241m.\u001b[39mread_csv(file_path)\n\u001b[0;32m     17\u001b[0m     combined_df \u001b[38;5;241m=\u001b[39m pd\u001b[38;5;241m.\u001b[39mconcat([combined_df, df], ignore_index\u001b[38;5;241m=\u001b[39m\u001b[38;5;28;01mTrue\u001b[39;00m)\n\u001b[0;32m     19\u001b[0m \u001b[38;5;66;03m# บันทึกไฟล์ CSV ใหม่ที่รวมข้อมูลทั้งหมด\u001b[39;00m\n",
      "File \u001b[1;32mC:\\ProgramData\\anaconda3\\Lib\\site-packages\\pandas\\io\\parsers\\readers.py:912\u001b[0m, in \u001b[0;36mread_csv\u001b[1;34m(filepath_or_buffer, sep, delimiter, header, names, index_col, usecols, dtype, engine, converters, true_values, false_values, skipinitialspace, skiprows, skipfooter, nrows, na_values, keep_default_na, na_filter, verbose, skip_blank_lines, parse_dates, infer_datetime_format, keep_date_col, date_parser, date_format, dayfirst, cache_dates, iterator, chunksize, compression, thousands, decimal, lineterminator, quotechar, quoting, doublequote, escapechar, comment, encoding, encoding_errors, dialect, on_bad_lines, delim_whitespace, low_memory, memory_map, float_precision, storage_options, dtype_backend)\u001b[0m\n\u001b[0;32m    899\u001b[0m kwds_defaults \u001b[38;5;241m=\u001b[39m _refine_defaults_read(\n\u001b[0;32m    900\u001b[0m     dialect,\n\u001b[0;32m    901\u001b[0m     delimiter,\n\u001b[1;32m   (...)\u001b[0m\n\u001b[0;32m    908\u001b[0m     dtype_backend\u001b[38;5;241m=\u001b[39mdtype_backend,\n\u001b[0;32m    909\u001b[0m )\n\u001b[0;32m    910\u001b[0m kwds\u001b[38;5;241m.\u001b[39mupdate(kwds_defaults)\n\u001b[1;32m--> 912\u001b[0m \u001b[38;5;28;01mreturn\u001b[39;00m _read(filepath_or_buffer, kwds)\n",
      "File \u001b[1;32mC:\\ProgramData\\anaconda3\\Lib\\site-packages\\pandas\\io\\parsers\\readers.py:577\u001b[0m, in \u001b[0;36m_read\u001b[1;34m(filepath_or_buffer, kwds)\u001b[0m\n\u001b[0;32m    574\u001b[0m _validate_names(kwds\u001b[38;5;241m.\u001b[39mget(\u001b[38;5;124m\"\u001b[39m\u001b[38;5;124mnames\u001b[39m\u001b[38;5;124m\"\u001b[39m, \u001b[38;5;28;01mNone\u001b[39;00m))\n\u001b[0;32m    576\u001b[0m \u001b[38;5;66;03m# Create the parser.\u001b[39;00m\n\u001b[1;32m--> 577\u001b[0m parser \u001b[38;5;241m=\u001b[39m TextFileReader(filepath_or_buffer, \u001b[38;5;241m*\u001b[39m\u001b[38;5;241m*\u001b[39mkwds)\n\u001b[0;32m    579\u001b[0m \u001b[38;5;28;01mif\u001b[39;00m chunksize \u001b[38;5;129;01mor\u001b[39;00m iterator:\n\u001b[0;32m    580\u001b[0m     \u001b[38;5;28;01mreturn\u001b[39;00m parser\n",
      "File \u001b[1;32mC:\\ProgramData\\anaconda3\\Lib\\site-packages\\pandas\\io\\parsers\\readers.py:1407\u001b[0m, in \u001b[0;36mTextFileReader.__init__\u001b[1;34m(self, f, engine, **kwds)\u001b[0m\n\u001b[0;32m   1404\u001b[0m     \u001b[38;5;28mself\u001b[39m\u001b[38;5;241m.\u001b[39moptions[\u001b[38;5;124m\"\u001b[39m\u001b[38;5;124mhas_index_names\u001b[39m\u001b[38;5;124m\"\u001b[39m] \u001b[38;5;241m=\u001b[39m kwds[\u001b[38;5;124m\"\u001b[39m\u001b[38;5;124mhas_index_names\u001b[39m\u001b[38;5;124m\"\u001b[39m]\n\u001b[0;32m   1406\u001b[0m \u001b[38;5;28mself\u001b[39m\u001b[38;5;241m.\u001b[39mhandles: IOHandles \u001b[38;5;241m|\u001b[39m \u001b[38;5;28;01mNone\u001b[39;00m \u001b[38;5;241m=\u001b[39m \u001b[38;5;28;01mNone\u001b[39;00m\n\u001b[1;32m-> 1407\u001b[0m \u001b[38;5;28mself\u001b[39m\u001b[38;5;241m.\u001b[39m_engine \u001b[38;5;241m=\u001b[39m \u001b[38;5;28mself\u001b[39m\u001b[38;5;241m.\u001b[39m_make_engine(f, \u001b[38;5;28mself\u001b[39m\u001b[38;5;241m.\u001b[39mengine)\n",
      "File \u001b[1;32mC:\\ProgramData\\anaconda3\\Lib\\site-packages\\pandas\\io\\parsers\\readers.py:1661\u001b[0m, in \u001b[0;36mTextFileReader._make_engine\u001b[1;34m(self, f, engine)\u001b[0m\n\u001b[0;32m   1659\u001b[0m     \u001b[38;5;28;01mif\u001b[39;00m \u001b[38;5;124m\"\u001b[39m\u001b[38;5;124mb\u001b[39m\u001b[38;5;124m\"\u001b[39m \u001b[38;5;129;01mnot\u001b[39;00m \u001b[38;5;129;01min\u001b[39;00m mode:\n\u001b[0;32m   1660\u001b[0m         mode \u001b[38;5;241m+\u001b[39m\u001b[38;5;241m=\u001b[39m \u001b[38;5;124m\"\u001b[39m\u001b[38;5;124mb\u001b[39m\u001b[38;5;124m\"\u001b[39m\n\u001b[1;32m-> 1661\u001b[0m \u001b[38;5;28mself\u001b[39m\u001b[38;5;241m.\u001b[39mhandles \u001b[38;5;241m=\u001b[39m get_handle(\n\u001b[0;32m   1662\u001b[0m     f,\n\u001b[0;32m   1663\u001b[0m     mode,\n\u001b[0;32m   1664\u001b[0m     encoding\u001b[38;5;241m=\u001b[39m\u001b[38;5;28mself\u001b[39m\u001b[38;5;241m.\u001b[39moptions\u001b[38;5;241m.\u001b[39mget(\u001b[38;5;124m\"\u001b[39m\u001b[38;5;124mencoding\u001b[39m\u001b[38;5;124m\"\u001b[39m, \u001b[38;5;28;01mNone\u001b[39;00m),\n\u001b[0;32m   1665\u001b[0m     compression\u001b[38;5;241m=\u001b[39m\u001b[38;5;28mself\u001b[39m\u001b[38;5;241m.\u001b[39moptions\u001b[38;5;241m.\u001b[39mget(\u001b[38;5;124m\"\u001b[39m\u001b[38;5;124mcompression\u001b[39m\u001b[38;5;124m\"\u001b[39m, \u001b[38;5;28;01mNone\u001b[39;00m),\n\u001b[0;32m   1666\u001b[0m     memory_map\u001b[38;5;241m=\u001b[39m\u001b[38;5;28mself\u001b[39m\u001b[38;5;241m.\u001b[39moptions\u001b[38;5;241m.\u001b[39mget(\u001b[38;5;124m\"\u001b[39m\u001b[38;5;124mmemory_map\u001b[39m\u001b[38;5;124m\"\u001b[39m, \u001b[38;5;28;01mFalse\u001b[39;00m),\n\u001b[0;32m   1667\u001b[0m     is_text\u001b[38;5;241m=\u001b[39mis_text,\n\u001b[0;32m   1668\u001b[0m     errors\u001b[38;5;241m=\u001b[39m\u001b[38;5;28mself\u001b[39m\u001b[38;5;241m.\u001b[39moptions\u001b[38;5;241m.\u001b[39mget(\u001b[38;5;124m\"\u001b[39m\u001b[38;5;124mencoding_errors\u001b[39m\u001b[38;5;124m\"\u001b[39m, \u001b[38;5;124m\"\u001b[39m\u001b[38;5;124mstrict\u001b[39m\u001b[38;5;124m\"\u001b[39m),\n\u001b[0;32m   1669\u001b[0m     storage_options\u001b[38;5;241m=\u001b[39m\u001b[38;5;28mself\u001b[39m\u001b[38;5;241m.\u001b[39moptions\u001b[38;5;241m.\u001b[39mget(\u001b[38;5;124m\"\u001b[39m\u001b[38;5;124mstorage_options\u001b[39m\u001b[38;5;124m\"\u001b[39m, \u001b[38;5;28;01mNone\u001b[39;00m),\n\u001b[0;32m   1670\u001b[0m )\n\u001b[0;32m   1671\u001b[0m \u001b[38;5;28;01massert\u001b[39;00m \u001b[38;5;28mself\u001b[39m\u001b[38;5;241m.\u001b[39mhandles \u001b[38;5;129;01mis\u001b[39;00m \u001b[38;5;129;01mnot\u001b[39;00m \u001b[38;5;28;01mNone\u001b[39;00m\n\u001b[0;32m   1672\u001b[0m f \u001b[38;5;241m=\u001b[39m \u001b[38;5;28mself\u001b[39m\u001b[38;5;241m.\u001b[39mhandles\u001b[38;5;241m.\u001b[39mhandle\n",
      "File \u001b[1;32mC:\\ProgramData\\anaconda3\\Lib\\site-packages\\pandas\\io\\common.py:859\u001b[0m, in \u001b[0;36mget_handle\u001b[1;34m(path_or_buf, mode, encoding, compression, memory_map, is_text, errors, storage_options)\u001b[0m\n\u001b[0;32m    854\u001b[0m \u001b[38;5;28;01melif\u001b[39;00m \u001b[38;5;28misinstance\u001b[39m(handle, \u001b[38;5;28mstr\u001b[39m):\n\u001b[0;32m    855\u001b[0m     \u001b[38;5;66;03m# Check whether the filename is to be opened in binary mode.\u001b[39;00m\n\u001b[0;32m    856\u001b[0m     \u001b[38;5;66;03m# Binary mode does not support 'encoding' and 'newline'.\u001b[39;00m\n\u001b[0;32m    857\u001b[0m     \u001b[38;5;28;01mif\u001b[39;00m ioargs\u001b[38;5;241m.\u001b[39mencoding \u001b[38;5;129;01mand\u001b[39;00m \u001b[38;5;124m\"\u001b[39m\u001b[38;5;124mb\u001b[39m\u001b[38;5;124m\"\u001b[39m \u001b[38;5;129;01mnot\u001b[39;00m \u001b[38;5;129;01min\u001b[39;00m ioargs\u001b[38;5;241m.\u001b[39mmode:\n\u001b[0;32m    858\u001b[0m         \u001b[38;5;66;03m# Encoding\u001b[39;00m\n\u001b[1;32m--> 859\u001b[0m         handle \u001b[38;5;241m=\u001b[39m \u001b[38;5;28mopen\u001b[39m(\n\u001b[0;32m    860\u001b[0m             handle,\n\u001b[0;32m    861\u001b[0m             ioargs\u001b[38;5;241m.\u001b[39mmode,\n\u001b[0;32m    862\u001b[0m             encoding\u001b[38;5;241m=\u001b[39mioargs\u001b[38;5;241m.\u001b[39mencoding,\n\u001b[0;32m    863\u001b[0m             errors\u001b[38;5;241m=\u001b[39merrors,\n\u001b[0;32m    864\u001b[0m             newline\u001b[38;5;241m=\u001b[39m\u001b[38;5;124m\"\u001b[39m\u001b[38;5;124m\"\u001b[39m,\n\u001b[0;32m    865\u001b[0m         )\n\u001b[0;32m    866\u001b[0m     \u001b[38;5;28;01melse\u001b[39;00m:\n\u001b[0;32m    867\u001b[0m         \u001b[38;5;66;03m# Binary mode\u001b[39;00m\n\u001b[0;32m    868\u001b[0m         handle \u001b[38;5;241m=\u001b[39m \u001b[38;5;28mopen\u001b[39m(handle, ioargs\u001b[38;5;241m.\u001b[39mmode)\n",
      "\u001b[1;31mFileNotFoundError\u001b[0m: [Errno 2] No such file or directory: 'C:\\\\Users\\\\supan\\\\webscrap_v2\\\\webscrap_v2\\\\cut sen th\\\\thai_sentences_1427-1692\\\\thai_sentences_0.csv'"
     ]
    }
   ],
   "source": [
    "import pandas as pd\n",
    "\n",
    "# สมมติว่าชื่อไฟล์มีรูปแบบ thai_sentences_0.csv, thai_sentences_1.csv, ...\n",
    "# และไฟล์ทั้งหมดอยู่ในโฟลเดอร์ 'csv_files'\n",
    "file_template = r'C:\\Users\\supan\\webscrap_v2\\webscrap_v2\\cut sen th\\thai_sentences\\thai_sentences_{}.csv'\n",
    "\n",
    "# สร้าง DataFrame ว่างเพื่อเก็บข้อมูล\n",
    "combined_df = pd.DataFrame()\n",
    "\n",
    "# ระบุจำนวนไฟล์ที่ต้องการวนลูป\n",
    "number_of_files = 1693  # สมมติว่ามี 1500 ไฟล์, สามารถปรับจำนวนไฟล์ตามที่คุณมีจริง\n",
    "\n",
    "# วนลูปตามจำนวนไฟล์ที่มี\n",
    "for i in range(number_of_files):\n",
    "    file_path = file_template.format(i)\n",
    "    df = pd.read_csv(file_path)\n",
    "    combined_df = pd.concat([combined_df, df], ignore_index=True)\n",
    "\n",
    "# บันทึกไฟล์ CSV ใหม่ที่รวมข้อมูลทั้งหมด\n",
    "output_folder = r'C:\\Users\\supan\\webscrap_v2\\webscrap_v2\\cut sen th\\output cut sentence th 1427-1692'\n",
    "\n",
    "# ตรวจสอบและสร้างไดเรกทอรีหากไม่อยู่\n",
    "if not os.path.exists(output_folder):\n",
    "    os.makedirs(output_folder)\n",
    "\n",
    "# เส้นทางไฟล์ผลลัพธ์\n",
    "output_path = os.path.join(output_folder, 'combined_thai_sentences.csv')\n",
    "\n",
    "combined_df.to_csv(output_path, index=False)\n",
    "\n",
    "print(\"การรวมไฟล์เสร็จสมบูรณ์ และบันทึกเป็น combined_thai_sentences.csv\")\n"
   ]
  }
 ],
 "metadata": {
  "kernelspec": {
   "display_name": "Python 3 (ipykernel)",
   "language": "python",
   "name": "python3"
  },
  "language_info": {
   "codemirror_mode": {
    "name": "ipython",
    "version": 3
   },
   "file_extension": ".py",
   "mimetype": "text/x-python",
   "name": "python",
   "nbconvert_exporter": "python",
   "pygments_lexer": "ipython3",
   "version": "3.11.5"
  }
 },
 "nbformat": 4,
 "nbformat_minor": 5
}
