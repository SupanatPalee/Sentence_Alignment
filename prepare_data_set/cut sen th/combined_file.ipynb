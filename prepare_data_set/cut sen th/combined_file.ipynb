{
 "cells": [
  {
   "cell_type": "code",
   "execution_count": 4,
   "id": "b70493ce",
   "metadata": {},
   "outputs": [
    {
     "name": "stdout",
     "output_type": "stream",
     "text": [
      "การรวมไฟล์ CSV เสร็จสมบูรณ์\n"
     ]
    }
   ],
   "source": [
    "# import os\n",
    "# import pandas as pd\n",
    "\n",
    "# # ระบุเส้นทางไปยังโฟลเดอร์ที่มีไฟล์ CSV\n",
    "# folder_path = r'C:\\Users\\supan\\webscrap_v2\\webscrap_v2\\cut sen th\\thai_sentences'\n",
    "\n",
    "# # สร้างลิสต์เพื่อเก็บ DataFrame ของแต่ละไฟล์\n",
    "# df_list = []\n",
    "\n",
    "# # วนลูปอ่านไฟล์ CSV ในโฟลเดอร์\n",
    "# for filename in os.listdir(folder_path):\n",
    "#     if filename.endswith('.csv'):\n",
    "#         file_path = os.path.join(folder_path, filename)\n",
    "#         df = pd.read_csv(file_path)\n",
    "#         df_list.append(df)\n",
    "\n",
    "# # รวม DataFrame ทั้งหมดในลิสต์เป็น DataFrame เดียว\n",
    "# # combined_df = pd.concat(df_list, ignore_index=True)\n",
    "\n",
    "# # เส้นทางสำหรับบันทึกไฟล์ผลลัพธ์\n",
    "# output_folder = r'C:\\Users\\supan\\webscrap_v2\\webscrap_v2\\cut sen th\\output cut sentence th'\n",
    "# output_path = os.path.join(output_folder, 'combined_file.csv')\n",
    "\n",
    "# # ตรวจสอบและสร้างโฟลเดอร์หากไม่มี\n",
    "# if not os.path.exists(output_folder):\n",
    "#     os.makedirs(output_folder)\n",
    "\n",
    "# # บันทึก DataFrame ที่รวมกันเป็นไฟล์ CSV เดียว\n",
    "# combined_df.to_csv(output_path, index=False)\n",
    "\n",
    "# print(\"การรวมไฟล์ CSV เสร็จสมบูรณ์\")\n"
   ]
  },
  {
   "cell_type": "code",
   "execution_count": 5,
   "id": "5b284992",
   "metadata": {},
   "outputs": [
    {
     "name": "stdout",
     "output_type": "stream",
     "text": [
      "การรวมไฟล์ CSV เสร็จสมบูรณ์\n"
     ]
    }
   ],
   "source": [
    "# import os\n",
    "# import pandas as pd\n",
    "\n",
    "# # ระบุเส้นทางไปยังโฟลเดอร์ที่มีไฟล์ CSV\n",
    "# folder_path = r'C:\\Users\\supan\\webscrap_v2\\webscrap_v2\\cut sen th\\thai_sentences'\n",
    "\n",
    "# # สร้างลิสต์เพื่อเก็บ DataFrame ของแต่ละไฟล์\n",
    "# df_list = []\n",
    "\n",
    "# # วนลูปอ่านไฟล์ CSV ในโฟลเดอร์และจัดเรียงลำดับไฟล์\n",
    "# for filename in sorted(os.listdir(folder_path)):\n",
    "#     if filename.endswith('.csv'):\n",
    "#         file_path = os.path.join(folder_path, filename)\n",
    "#         df = pd.read_csv(file_path)\n",
    "#         df_list.append(df)\n",
    "\n",
    "# # รวม DataFrame ทั้งหมดในลิสต์เป็น DataFrame เดียว\n",
    "# combined_df = pd.concat(df_list, ignore_index=True)\n",
    "\n",
    "# # เส้นทางสำหรับบันทึกไฟล์ผลลัพธ์\n",
    "# output_folder = r'C:\\Users\\supan\\webscrap_v2\\webscrap_v2\\cut sen th\\output cut sentence th'\n",
    "# output_path = os.path.join(output_folder, 'combined_file.csv')\n",
    "\n",
    "# # ตรวจสอบและสร้างโฟลเดอร์หากไม่มี\n",
    "# if not os.path.exists(output_folder):\n",
    "#     os.makedirs(output_folder)\n",
    "\n",
    "# # บันทึก DataFrame ที่รวมกันเป็นไฟล์ CSV เดียว\n",
    "# combined_df.to_csv(output_path, index=False)\n",
    "\n",
    "# print(\"การรวมไฟล์ CSV เสร็จสมบูรณ์\")\n"
   ]
  },
  {
   "cell_type": "code",
   "execution_count": 7,
   "id": "15d2cfb9",
   "metadata": {},
   "outputs": [
    {
     "name": "stdout",
     "output_type": "stream",
     "text": [
      "Files combined successfully!\n"
     ]
    }
   ],
   "source": [
    "# import pandas as pd\n",
    "# import os\n",
    "\n",
    "# # ระบุเส้นทางไปยังโฟลเดอร์ที่มีไฟล์ CSV\n",
    "# folder_path = r'C:\\Users\\supan\\webscrap_v2\\webscrap_v2\\cut sen th\\thai_sentences'  # เปลี่ยนเป็นเส้นทางของโฟลเดอร์ที่มีไฟล์ของคุณ\n",
    "\n",
    "# # สร้างรายการชื่อไฟล์ CSV ทั้งหมดในโฟลเดอร์\n",
    "# file_names = [f for f in os.listdir(folder_path) if f.startswith('thai_sentences_') and f.endswith('.csv')]\n",
    "\n",
    "# # อ่านและรวมไฟล์ CSV ทั้งหมดเข้าด้วยกัน\n",
    "# combined_csv = pd.concat([pd.read_csv(os.path.join(folder_path, file_name)) for file_name in sorted(file_names)])\n",
    "\n",
    "# # เส้นทางสำหรับบันทึกไฟล์ผลลัพธ์\n",
    "# output_folder = r'C:\\Users\\supan\\webscrap_v2\\webscrap_v2\\cut sen th\\output cut sentence th'\n",
    "\n",
    "# # ตรวจสอบและสร้างไดเรกทอรีหากไม่อยู่\n",
    "# if not os.path.exists(output_folder):\n",
    "#     os.makedirs(output_folder)\n",
    "\n",
    "# # เส้นทางไฟล์ผลลัพธ์\n",
    "# output_path = os.path.join(output_folder, 'combined_thai_sentences.csv')\n",
    "\n",
    "# # บันทึกไฟล์ที่รวมกันแล้วเป็น CSV ใหม่\n",
    "# combined_csv.to_csv(output_path, index=False)\n",
    "\n",
    "# print(\"Files combined successfully!\")\n"
   ]
  },
  {
   "cell_type": "code",
   "execution_count": 4,
   "id": "70dce76a",
   "metadata": {},
   "outputs": [
    {
     "name": "stdout",
     "output_type": "stream",
     "text": [
      "การรวมไฟล์เสร็จสมบูรณ์ และบันทึกเป็น combined_thai_sentences.csv\n"
     ]
    }
   ],
   "source": [
    "import pandas as pd\n",
    "import os\n",
    "\n",
    "# สมมติว่าชื่อไฟล์มีรูปแบบ thai_sentences_0.csv, thai_sentences_1.csv, ...\n",
    "# และไฟล์ทั้งหมดอยู่ในโฟลเดอร์ 'csv_files'\n",
    "file_template = r'C:\\Users\\supan\\webscrap_v2\\webscrap_v2\\cut sen th\\thai_sentences\\thai_sentences_{}.csv'\n",
    "\n",
    "# สร้าง DataFrame ว่างเพื่อเก็บข้อมูล\n",
    "combined_df = pd.DataFrame()\n",
    "\n",
    "# ระบุจำนวนไฟล์ที่ต้องการวนลูป\n",
    "number_of_files = 1693  # สมมติว่ามี 1500 ไฟล์, สามารถปรับจำนวนไฟล์ตามที่คุณมีจริง\n",
    "\n",
    "# วนลูปตามจำนวนไฟล์ที่มี\n",
    "for i in range(number_of_files):\n",
    "    file_path = file_template.format(i)\n",
    "    df = pd.read_csv(file_path)\n",
    "    combined_df = pd.concat([combined_df, df], ignore_index=True)\n",
    "\n",
    "# บันทึกไฟล์ CSV ใหม่ที่รวมข้อมูลทั้งหมด\n",
    "output_folder = r'C:\\Users\\supan\\webscrap_v2\\webscrap_v2\\cut sen th\\output cut sentence th 1427-1692'\n",
    "\n",
    "# ตรวจสอบและสร้างไดเรกทอรีหากไม่อยู่\n",
    "if not os.path.exists(output_folder):\n",
    "    os.makedirs(output_folder)\n",
    "\n",
    "# เส้นทางไฟล์ผลลัพธ์\n",
    "output_path = os.path.join(output_folder, 'combined_thai_sentences.csv')\n",
    "\n",
    "combined_df.to_csv(output_path, index=False)\n",
    "\n",
    "print(\"การรวมไฟล์เสร็จสมบูรณ์ และบันทึกเป็น combined_thai_sentences.csv\")\n"
   ]
  }
 ],
 "metadata": {
  "kernelspec": {
   "display_name": "Python 3 (ipykernel)",
   "language": "python",
   "name": "python3"
  },
  "language_info": {
   "codemirror_mode": {
    "name": "ipython",
    "version": 3
   },
   "file_extension": ".py",
   "mimetype": "text/x-python",
   "name": "python",
   "nbconvert_exporter": "python",
   "pygments_lexer": "ipython3",
   "version": "3.11.5"
  }
 },
 "nbformat": 4,
 "nbformat_minor": 5
}
