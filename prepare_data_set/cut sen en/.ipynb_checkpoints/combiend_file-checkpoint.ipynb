{
 "cells": [
  {
   "cell_type": "code",
   "execution_count": 3,
   "id": "a7b57ccd",
   "metadata": {},
   "outputs": [
    {
     "name": "stdout",
     "output_type": "stream",
     "text": [
      "การรวมไฟล์เสร็จสมบูรณ์ และบันทึกเป็น abstract_en.csv\n"
     ]
    }
   ],
   "source": [
    "import pandas as pd\n",
    "import os\n",
    "# สมมติว่าชื่อไฟล์มีรูปแบบ thai_sentences_0.csv, thai_sentences_1.csv, ...\n",
    "# และไฟล์ทั้งหมดอยู่ในโฟลเดอร์ 'csv_files'\n",
    "file_template = r'C:\\Users\\supan\\webscrap_v2\\webscrap_v2\\cut sen en\\output cut sentence en\\{}_sentences.csv'\n",
    "\n",
    "# สร้าง DataFrame ว่างเพื่อเก็บข้อมูล\n",
    "combined_df = pd.DataFrame()\n",
    "\n",
    "# ระบุจำนวนไฟล์ที่ต้องการวนลูป\n",
    "number_of_files = 1427  # สมมติว่ามี 1500 ไฟล์, สามารถปรับจำนวนไฟล์ตามที่คุณมีจริง\n",
    "\n",
    "# วนลูปตามจำนวนไฟล์ที่มี\n",
    "for i in range(number_of_files):\n",
    "    file_path = file_template.format(i)\n",
    "    df = pd.read_csv(file_path)\n",
    "    combined_df = pd.concat([combined_df, df], ignore_index=True)\n",
    "\n",
    "# บันทึกไฟล์ CSV ใหม่ที่รวมข้อมูลทั้งหมด\n",
    "output_folder = r'C:\\Users\\supan\\webscrap_v2\\webscrap_v2\\cut sen en\\output cut sentence en\\combiend_file'\n",
    "\n",
    "# ตรวจสอบและสร้างไดเรกทอรีหากไม่อยู่\n",
    "if not os.path.exists(output_folder):\n",
    "    os.makedirs(output_folder)\n",
    "\n",
    "# เส้นทางไฟล์ผลลัพธ์\n",
    "output_path = os.path.join(output_folder, 'abstract_en.csv')\n",
    "\n",
    "combined_df.to_csv(output_path, index=False)\n",
    "\n",
    "print(\"การรวมไฟล์เสร็จสมบูรณ์ และบันทึกเป็น abstract_en.csv\")\n"
   ]
  },
  {
   "cell_type": "code",
   "execution_count": 7,
   "id": "ff0a2664",
   "metadata": {},
   "outputs": [
    {
     "name": "stdout",
     "output_type": "stream",
     "text": [
      "Combined and saved to: C:\\Users\\supan\\webscrap_v2\\webscrap_v2\\cut sen en\\output cut sentence en\\combiend_file\\combined_sentences.csv\n"
     ]
    }
   ],
   "source": [
    "import pandas as pd\n",
    "import os\n",
    "\n",
    "# กำหนดโฟลเดอร์ที่บันทึกไฟล์เป็น CSV หลายๆ ไฟล์\n",
    "input_folder = r'C:\\Users\\supan\\webscrap_v2\\webscrap_v2\\cut sen en\\output cut sentence en'  # โฟลเดอร์ที่เก็บไฟล์ CSV ที่ตัดประโยคแล้ว\n",
    "\n",
    "# อ่านทั้งหมดไฟล์ CSV ที่อยู่ในโฟลเดอร์ input_folder และรวมเป็น DataFrame เดียว\n",
    "dfs = []\n",
    "for filename in os.listdir(input_folder):\n",
    "    if filename.endswith('.csv'):\n",
    "        file_path = os.path.join(input_folder, filename)\n",
    "        df = pd.read_csv(file_path, header=None, names=['sentences'])\n",
    "        dfs.append(df)\n",
    "\n",
    "# รวม DataFrame ทั้งหมดใน list โดยใช้ concat\n",
    "combined_df = pd.concat(dfs, ignore_index=True)\n",
    "\n",
    "# บันทึกผลลัพธ์ลงเป็นไฟล์ CSV แบบไม่รวม index\n",
    "output_file_path = r'C:\\Users\\supan\\webscrap_v2\\webscrap_v2\\cut sen en\\output cut sentence en\\combiend_file\\combined_sentences.csv'\n",
    "combined_df.to_csv(output_file_path, index=False)\n",
    "\n",
    "print(f'Combined and saved to: {output_file_path}')\n"
   ]
  },
  {
   "cell_type": "code",
   "execution_count": 1,
   "id": "d0411e5e",
   "metadata": {},
   "outputs": [
    {
     "ename": "FileNotFoundError",
     "evalue": "[WinError 3] The system cannot find the path specified: 'C:\\\\Users\\\\supan\\\\webscrap_v2\\\\webscrap_v2\\\\cut sen en\\\\output cut sentence en 1428-1692'",
     "output_type": "error",
     "traceback": [
      "\u001b[1;31m---------------------------------------------------------------------------\u001b[0m",
      "\u001b[1;31mFileNotFoundError\u001b[0m                         Traceback (most recent call last)",
      "Cell \u001b[1;32mIn[1], line 16\u001b[0m\n\u001b[0;32m     14\u001b[0m \u001b[38;5;66;03m# อ่านทั้งหมดไฟล์ CSV ที่อยู่ในโฟลเดอร์ input_folder และรวมเป็น DataFrame เดียว\u001b[39;00m\n\u001b[0;32m     15\u001b[0m dfs \u001b[38;5;241m=\u001b[39m []\n\u001b[1;32m---> 16\u001b[0m \u001b[38;5;28;01mfor\u001b[39;00m filename \u001b[38;5;129;01min\u001b[39;00m \u001b[38;5;28msorted\u001b[39m(os\u001b[38;5;241m.\u001b[39mlistdir(input_folder), key\u001b[38;5;241m=\u001b[39mextract_number):\n\u001b[0;32m     17\u001b[0m     \u001b[38;5;28;01mif\u001b[39;00m filename\u001b[38;5;241m.\u001b[39mendswith(\u001b[38;5;124m'\u001b[39m\u001b[38;5;124m.csv\u001b[39m\u001b[38;5;124m'\u001b[39m):\n\u001b[0;32m     18\u001b[0m         file_path \u001b[38;5;241m=\u001b[39m os\u001b[38;5;241m.\u001b[39mpath\u001b[38;5;241m.\u001b[39mjoin(input_folder, filename)\n",
      "\u001b[1;31mFileNotFoundError\u001b[0m: [WinError 3] The system cannot find the path specified: 'C:\\\\Users\\\\supan\\\\webscrap_v2\\\\webscrap_v2\\\\cut sen en\\\\output cut sentence en 1428-1692'"
     ]
    }
   ],
   "source": [
    "import pandas as pd\n",
    "import os\n",
    "\n",
    "# ฟังก์ชันสำหรับดึงตัวเลขออกจากชื่อไฟล์\n",
    "def extract_number(filename):\n",
    "    if filename.endswith('.csv'):\n",
    "        return int(filename.split('_')[0])\n",
    "    else:\n",
    "        return float('inf')  # ใช้ float('inf') เพื่อให้ไฟล์ที่ไม่ใช่ CSV มีค่า \"ไม่สิ้นสุด\" ในการเรียงลำดับ\n",
    "\n",
    "# กำหนดโฟลเดอร์ที่บันทึกไฟล์ CSV หลายๆ ไฟล์\n",
    "# input_folder = r'C:\\Users\\supan\\webscrap_v2\\webscrap_v2\\cut sen en\\output cut sentence en 1428-1692'  # โฟลเดอร์ที่เก็บไฟล์ CSV ที่ตัดประโยคแล้ว\n",
    "input_folder = r'C:\\Users\\supan\\webscrap_v2\\webscrap_v2\\cut sen en\\output cut sen en 1428-1692'\n",
    "\n",
    "\n",
    "# อ่านทั้งหมดไฟล์ CSV ที่อยู่ในโฟลเดอร์ input_folder และรวมเป็น DataFrame เดียว\n",
    "dfs = []\n",
    "for filename in sorted(os.listdir(input_folder), key=extract_number):\n",
    "    if filename.endswith('.csv'):\n",
    "        file_path = os.path.join(input_folder, filename)\n",
    "        df = pd.read_csv(file_path, header=None, names=['sentences'])\n",
    "        dfs.append(df)\n",
    "\n",
    "# รวม DataFrame ทั้งหมดใน list โดยใช้ concat\n",
    "combined_df = pd.concat(dfs, ignore_index=True)\n",
    "\n",
    "# บันทึกผลลัพธ์ลงเป็นไฟล์ CSV แบบไม่รวม index\n",
    "output_file_path = r'C:\\Users\\supan\\webscrap_v2\\webscrap_v2\\cut sen en\\output cut sentence en\\combiend_file\\combined_sentences1428-1692.csv'\n",
    "combined_df.to_csv(output_file_path, index=False)\n",
    "\n",
    "print(f'Combined and saved to: {output_file_path}')\n"
   ]
  }
 ],
 "metadata": {
  "kernelspec": {
   "display_name": "Python 3 (ipykernel)",
   "language": "python",
   "name": "python3"
  },
  "language_info": {
   "codemirror_mode": {
    "name": "ipython",
    "version": 3
   },
   "file_extension": ".py",
   "mimetype": "text/x-python",
   "name": "python",
   "nbconvert_exporter": "python",
   "pygments_lexer": "ipython3",
   "version": "3.11.5"
  }
 },
 "nbformat": 4,
 "nbformat_minor": 5
}
